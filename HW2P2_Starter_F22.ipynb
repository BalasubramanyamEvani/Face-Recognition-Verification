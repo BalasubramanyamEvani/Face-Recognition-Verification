{
  "cells": [
    {
      "cell_type": "markdown",
      "metadata": {
        "id": "XBITN0M_LKds"
      },
      "source": [
        "# HW2P2: Face Classification and Verification\n"
      ]
    },
    {
      "cell_type": "markdown",
      "metadata": {
        "id": "-NH4P-HzLRQs"
      },
      "source": [
        "Congrats on coming to the second homework in 11785: Introduction to Deep Learning. This homework significantly longer and tougher than the previous homework. You have 2 sub-parts as outlined below. Please start early! \n",
        "\n",
        "\n",
        "*   Face Recognition: You will be writing your own CNN model to tackle the problem of classification, consisting of 7000 identities\n",
        "*   Face Verification: You use the model trained for classification to evaluate the quality of its feature embeddings, by comparing the similarity of known and unknown identities\n",
        "\n",
        "For this HW, you only have to write code to implement your model architecture. Everything else has been provided for you, on the pretext that most of your time will be used up in developing the suitable model architecture for achieving satisfactory performance."
      ]
    },
    {
      "cell_type": "markdown",
      "metadata": {
        "id": "i1B_m84_cU6c"
      },
      "source": [
        "Common errors which you may face in this homeworks (because of the size of the model)\n",
        "\n",
        "\n",
        "*   CUDA Out of Memory (OOM): You can tackle this problem by (1) Reducing the batch size (2) Calling `torch.cuda.empty_cache()` and `gc.collect()` (3) Finally restarting the runtime\n",
        "\n"
      ]
    },
    {
      "cell_type": "markdown",
      "metadata": {
        "id": "BdoDIKWOMF59"
      },
      "source": [
        "# Preliminaries"
      ]
    },
    {
      "cell_type": "code",
      "execution_count": null,
      "metadata": {
        "colab": {
          "base_uri": "https://localhost:8080/"
        },
        "id": "Jza7lwiScUhb",
        "outputId": "7f2a93d8-f535-4fb6-ea1e-50fcf0979c35"
      },
      "outputs": [
        {
          "name": "stdout",
          "output_type": "stream",
          "text": [
            "Wed Oct 26 22:56:54 2022       \n",
            "+-----------------------------------------------------------------------------+\n",
            "| NVIDIA-SMI 460.32.03    Driver Version: 460.32.03    CUDA Version: 11.2     |\n",
            "|-------------------------------+----------------------+----------------------+\n",
            "| GPU  Name        Persistence-M| Bus-Id        Disp.A | Volatile Uncorr. ECC |\n",
            "| Fan  Temp  Perf  Pwr:Usage/Cap|         Memory-Usage | GPU-Util  Compute M. |\n",
            "|                               |                      |               MIG M. |\n",
            "|===============================+======================+======================|\n",
            "|   0  A100-SXM4-40GB      Off  | 00000000:00:04.0 Off |                    0 |\n",
            "| N/A   31C    P0    47W / 400W |      0MiB / 40536MiB |      0%      Default |\n",
            "|                               |                      |             Disabled |\n",
            "+-------------------------------+----------------------+----------------------+\n",
            "                                                                               \n",
            "+-----------------------------------------------------------------------------+\n",
            "| Processes:                                                                  |\n",
            "|  GPU   GI   CI        PID   Type   Process name                  GPU Memory |\n",
            "|        ID   ID                                                   Usage      |\n",
            "|=============================================================================|\n",
            "|  No running processes found                                                 |\n",
            "+-----------------------------------------------------------------------------+\n"
          ]
        }
      ],
      "source": [
        "!nvidia-smi # to see what GPU you have"
      ]
    },
    {
      "cell_type": "code",
      "execution_count": null,
      "metadata": {
        "colab": {
          "base_uri": "https://localhost:8080/"
        },
        "id": "bTxfd_nqFnL9",
        "outputId": "dffff510-b0c7-4c87-d327-23a8e1f7c953"
      },
      "outputs": [
        {
          "name": "stdout",
          "output_type": "stream",
          "text": [
            "\u001b[K     |████████████████████████████████| 1.9 MB 4.7 MB/s \n",
            "\u001b[K     |████████████████████████████████| 166 kB 78.1 MB/s \n",
            "\u001b[K     |████████████████████████████████| 182 kB 84.0 MB/s \n",
            "\u001b[K     |████████████████████████████████| 63 kB 1.7 MB/s \n",
            "\u001b[K     |████████████████████████████████| 166 kB 83.4 MB/s \n",
            "\u001b[K     |████████████████████████████████| 162 kB 86.8 MB/s \n",
            "\u001b[K     |████████████████████████████████| 162 kB 81.4 MB/s \n",
            "\u001b[K     |████████████████████████████████| 158 kB 83.3 MB/s \n",
            "\u001b[K     |████████████████████████████████| 157 kB 84.5 MB/s \n",
            "\u001b[K     |████████████████████████████████| 157 kB 86.2 MB/s \n",
            "\u001b[K     |████████████████████████████████| 157 kB 86.3 MB/s \n",
            "\u001b[K     |████████████████████████████████| 157 kB 85.0 MB/s \n",
            "\u001b[K     |████████████████████████████████| 157 kB 81.1 MB/s \n",
            "\u001b[K     |████████████████████████████████| 157 kB 88.7 MB/s \n",
            "\u001b[K     |████████████████████████████████| 157 kB 89.5 MB/s \n",
            "\u001b[K     |████████████████████████████████| 156 kB 77.6 MB/s \n",
            "\u001b[?25h  Building wheel for pathtools (setup.py) ... \u001b[?25l\u001b[?25hdone\n"
          ]
        }
      ],
      "source": [
        "!pip install wandb --quiet"
      ]
    },
    {
      "cell_type": "code",
      "execution_count": null,
      "metadata": {
        "colab": {
          "base_uri": "https://localhost:8080/"
        },
        "id": "jwLEd0gdPbSc",
        "outputId": "282d63dd-4589-4e84-b367-db1274bb6b6c"
      },
      "outputs": [
        {
          "name": "stdout",
          "output_type": "stream",
          "text": [
            "Device:  cuda\n"
          ]
        }
      ],
      "source": [
        "import torch\n",
        "from torchsummary import summary\n",
        "import torchvision #This library is used for image-based operations (Augmentations)\n",
        "import os\n",
        "import gc\n",
        "from tqdm import tqdm\n",
        "from PIL import Image\n",
        "import numpy as np\n",
        "import pandas as pd\n",
        "from sklearn.metrics import accuracy_score\n",
        "import glob\n",
        "# from pytorch_metric_learning.losses import ArcFaceLoss\n",
        "import wandb\n",
        "device = 'cuda' if torch.cuda.is_available() else 'cpu'\n",
        "print(\"Device: \", device)"
      ]
    },
    {
      "cell_type": "markdown",
      "metadata": {
        "id": "1oxQNl-YVWHc"
      },
      "source": [
        "# TODOs\n",
        "As you go, please read the code and keep an eye out for TODOs!"
      ]
    },
    {
      "cell_type": "markdown",
      "metadata": {
        "id": "scOnMklwWBY6"
      },
      "source": [
        "# Download Data from Kaggle"
      ]
    },
    {
      "cell_type": "code",
      "execution_count": null,
      "metadata": {
        "colab": {
          "base_uri": "https://localhost:8080/"
        },
        "id": "3oFjaJTaRjT7",
        "outputId": "b2c140d6-6635-4a09-9da6-b4850612e1e2"
      },
      "outputs": [
        {
          "name": "stdout",
          "output_type": "stream",
          "text": [
            "Downloading 11-785-f22-hw2p2-classification.zip to /content\n",
            " 99% 2.35G/2.37G [00:10<00:00, 274MB/s]\n",
            "100% 2.37G/2.37G [00:11<00:00, 230MB/s]\n",
            "Downloading 11-785-f22-hw2p2-verification.zip to /content\n",
            " 71% 12.0M/16.8M [00:00<00:00, 124MB/s]\n",
            "100% 16.8M/16.8M [00:00<00:00, 154MB/s]\n"
          ]
        }
      ],
      "source": [
        "# !mkdir '/content/data'\n",
        "\n",
        "!kaggle competitions download -c 11-785-f22-hw2p2-classification\n",
        "!unzip -qo '11-785-f22-hw2p2-classification.zip' -d '/content/data'\n",
        "\n",
        "!kaggle competitions download -c 11-785-f22-hw2p2-verification\n",
        "!unzip -qo '11-785-f22-hw2p2-verification.zip' -d '/content/data'"
      ]
    },
    {
      "cell_type": "markdown",
      "metadata": {
        "id": "O68hT27SXClj"
      },
      "source": [
        "# Configs"
      ]
    },
    {
      "cell_type": "code",
      "execution_count": null,
      "metadata": {
        "id": "S7qpMxG0XCJz"
      },
      "outputs": [],
      "source": [
        "config = {\n",
        "    'batch_size': 64, # Increase this if your GPU can handle it\n",
        "    'lr': 0.1,\n",
        "    'epochs': 120, \n",
        "    # \"step_lr_step_size\": 35,\n",
        "    # \"step_lr_gamma\": 0.1 ,\n",
        "    # \"cosine_annealing_step_size\": 20, \n",
        "}"
      ]
    },
    {
      "cell_type": "markdown",
      "metadata": {
        "id": "sSeiKHYrM-6b"
      },
      "source": [
        "# Classification Dataset"
      ]
    },
    {
      "cell_type": "code",
      "execution_count": null,
      "metadata": {
        "id": "tmRX5omaNDEZ"
      },
      "outputs": [],
      "source": [
        "DATA_DIR = '/content/data/11-785-f22-hw2p2-classification/'\n",
        "TRAIN_DIR = os.path.join(DATA_DIR, \"classification/train\") \n",
        "VAL_DIR = os.path.join(DATA_DIR, \"classification/dev\")\n",
        "TEST_DIR = os.path.join(DATA_DIR, \"classification/test\")\n",
        "\n",
        "# Transforms using torchvision - Refer https://pytorch.org/vision/stable/transforms.html\n",
        "\n",
        "# Implementing the right transforms/augmentation methods is key to improving performance.\n",
        "train_transforms = torchvision.transforms.Compose([\n",
        "    torchvision.transforms.RandomHorizontalFlip(p=0.5),\n",
        "    torchvision.transforms.ColorJitter(brightness=0.2, contrast=0.2, saturation=0.2),\n",
        "    torchvision.transforms.RandomRotation(5),\n",
        "    torchvision.transforms.ToTensor()\n",
        "])\n",
        "\n",
        "val_transforms = torchvision.transforms.Compose([torchvision.transforms.ToTensor()])\n",
        "\n",
        "train_dataset = torchvision.datasets.ImageFolder(TRAIN_DIR, transform = train_transforms)\n",
        "val_dataset = torchvision.datasets.ImageFolder(VAL_DIR, transform = val_transforms)\n",
        "\n",
        "# Create data loaders\n",
        "train_loader = torch.utils.data.DataLoader(train_dataset, batch_size = config['batch_size'], \n",
        "                                           shuffle = True,num_workers = 4, pin_memory = True)\n",
        "val_loader = torch.utils.data.DataLoader(val_dataset, batch_size = config['batch_size'], \n",
        "                                         shuffle = False, num_workers = 2)"
      ]
    },
    {
      "cell_type": "code",
      "execution_count": null,
      "metadata": {
        "id": "SqSR063BGE2e"
      },
      "outputs": [],
      "source": [
        "class ClassificationTestDataset(torch.utils.data.Dataset):\n",
        "    def __init__(self, data_dir, transforms):\n",
        "        self.data_dir   = data_dir\n",
        "        self.transforms = transforms\n",
        "        self.img_paths  = list(map(lambda fname: os.path.join(self.data_dir, fname), sorted(os.listdir(self.data_dir))))\n",
        "\n",
        "    def __len__(self):\n",
        "        return len(self.img_paths)\n",
        "    \n",
        "    def __getitem__(self, idx):\n",
        "        return self.transforms(Image.open(self.img_paths[idx]))"
      ]
    },
    {
      "cell_type": "code",
      "execution_count": null,
      "metadata": {
        "id": "fVLB41KtGC2o"
      },
      "outputs": [],
      "source": [
        "test_dataset = ClassificationTestDataset(TEST_DIR, transforms = val_transforms)\n",
        "test_loader = torch.utils.data.DataLoader(test_dataset, batch_size = config['batch_size'], shuffle = False,\n",
        "                         drop_last = False, num_workers = 2)"
      ]
    },
    {
      "cell_type": "code",
      "execution_count": null,
      "metadata": {
        "colab": {
          "base_uri": "https://localhost:8080/"
        },
        "id": "x4t8eU9gY0Jy",
        "outputId": "d3a5bf08-c178-48f0-924b-08ece0098e36"
      },
      "outputs": [
        {
          "name": "stdout",
          "output_type": "stream",
          "text": [
            "Number of classes:  7000\n",
            "No. of train images:  140000\n",
            "Shape of image:  torch.Size([3, 224, 224])\n",
            "Batch size:  64\n",
            "Train batches:  2188\n",
            "Val batches:  547\n"
          ]
        }
      ],
      "source": [
        "print(\"Number of classes: \", len(train_dataset.classes))\n",
        "print(\"No. of train images: \", train_dataset.__len__())\n",
        "print(\"Shape of image: \", train_dataset[0][0].shape)\n",
        "print(\"Batch size: \", config['batch_size'])\n",
        "print(\"Train batches: \", train_loader.__len__())\n",
        "print(\"Val batches: \", val_loader.__len__())"
      ]
    },
    {
      "cell_type": "markdown",
      "metadata": {
        "id": "mIqmojPaWD0H"
      },
      "source": [
        "# Very Simple Network (for Mandatory Early Submission)"
      ]
    },
    {
      "cell_type": "markdown",
      "metadata": {
        "id": "6-bcjP_yY7wH"
      },
      "source": [
        "# SE Resnet50"
      ]
    },
    {
      "cell_type": "code",
      "execution_count": null,
      "metadata": {
        "id": "HoZol0bJY7wH"
      },
      "outputs": [],
      "source": [
        "import torch.nn.functional as F\n",
        "\n",
        "class SEBlock(torch.nn.Module):\n",
        "    def __init__(self, in_channels, out_channels, stride=1, skip_connection=None):\n",
        "        super().__init__()\n",
        "        self.conv_layers = torch.nn.Sequential(\n",
        "            torch.nn.Conv2d(in_channels, out_channels, kernel_size=1, stride=1),\n",
        "            torch.nn.BatchNorm2d(out_channels),\n",
        "            torch.nn.ReLU(),\n",
        "            torch.nn.Conv2d(out_channels, out_channels, kernel_size=3, stride=stride, padding=1),\n",
        "            torch.nn.BatchNorm2d(out_channels),\n",
        "            torch.nn.ReLU(),\n",
        "            torch.nn.Conv2d(out_channels, out_channels * 4, kernel_size=1, stride=1),\n",
        "            torch.nn.BatchNorm2d(out_channels * 4),\n",
        "        )\n",
        "        self.se_scaler = torch.nn.Sequential(\n",
        "            torch.nn.AdaptiveAvgPool2d(1),\n",
        "            torch.nn.Conv2d(out_channels * 4, out_channels * 4 // 16, kernel_size=1, stride=1),\n",
        "            torch.nn.ReLU(),\n",
        "            torch.nn.Conv2d(out_channels * 4 // 16, out_channels * 4, kernel_size=1, stride=1),\n",
        "            torch.nn.Sigmoid()\n",
        "        ) \n",
        "        self.skip_connection = torch.nn.Identity()\n",
        "        if skip_connection is not None:\n",
        "            self.skip_connection = skip_connection\n",
        "        self.act = torch.nn.ReLU()\n",
        "\n",
        "    def forward(self, input):\n",
        "        output = self.conv_layers(input)\n",
        "        scale = self.se_scaler(output)\n",
        "        residual = self.skip_connection(input)\n",
        "        return self.act(scale * output + residual)\n",
        "\n",
        "class SEResnet50(torch.nn.Module):\n",
        "    def __init__(self, in_channels, block, layers, num_classes=7000):\n",
        "        super().__init__()\n",
        "        self.curr_channels = 64\n",
        "        self.conv1 = torch.nn.Sequential(\n",
        "            torch.nn.Conv2d(in_channels, 64, kernel_size=7, stride=2, padding=3),\n",
        "            torch.nn.BatchNorm2d(64),\n",
        "            torch.nn.ReLU(),\n",
        "            torch.nn.MaxPool2d(kernel_size=3, stride=2, padding=1),\n",
        "        )\n",
        "        self.layer1 = self._make_layer(block, 64, layers[0])\n",
        "        self.layer2 = self._make_layer(block, 128, layers[1], stride=2)\n",
        "        self.layer3 = self._make_layer(block, 256, layers[2], stride=2)\n",
        "        self.layer4 = self._make_layer(block, 512, layers[3], stride=2)\n",
        "        self.pre_final = torch.nn.Sequential(\n",
        "            torch.nn.AdaptiveAvgPool2d((1,1)),\n",
        "            torch.nn.Flatten()\n",
        "        )\n",
        "        self.cls_layer = torch.nn.Sequential(\n",
        "            torch.nn.Linear(in_features=2048, out_features=num_classes),\n",
        "        )\n",
        "        # self.dropblock = DropBlock(7, 0.9)\n",
        "\n",
        "    def _make_layer(self, block, layer_channels, num_blocks, stride=1):\n",
        "            skip_connection = None\n",
        "            if stride != 1 or self.curr_channels != layer_channels * 4:\n",
        "                skip_connection = torch.nn.Sequential(\n",
        "                    torch.nn.Conv2d(self.curr_channels, layer_channels * 4, kernel_size=1, stride=stride), \n",
        "                    torch.nn.BatchNorm2d(layer_channels * 4),\n",
        "                )\n",
        "            layers = []\n",
        "            layers.append(block(self.curr_channels, layer_channels, stride, skip_connection))\n",
        "            self.curr_channels = layer_channels * 4\n",
        "            for i in range(1, num_blocks):\n",
        "                layers.append(block(self.curr_channels, layer_channels))\n",
        "\n",
        "            return torch.nn.Sequential(*layers)\n",
        "\n",
        "    def forward(self, input, return_feats=False):\n",
        "        feats = self.conv1(input)\n",
        "        feats = self.layer1(feats)\n",
        "        feats = self.layer2(feats)\n",
        "        feats = self.layer3(feats)\n",
        "        feats = self.layer4(feats)\n",
        "        feats = self.pre_final(feats)\n",
        "        if return_feats:\n",
        "            return feats\n",
        "        out = self.cls_layer(feats)\n",
        "        return out\n",
        "\n",
        "# model = SEResnet50(3, SEBlock, [3, 4, 6, 3]).to(device)\n",
        "# summary(model, (3, 224, 224))"
      ]
    },
    {
      "cell_type": "markdown",
      "metadata": {
        "id": "Jx7a_BsGY7wI"
      },
      "source": [
        "# Resnet34"
      ]
    },
    {
      "cell_type": "code",
      "execution_count": null,
      "metadata": {
        "id": "eLB1MsOrqkzb"
      },
      "outputs": [],
      "source": [
        "# class ResidualBlock(torch.nn.Module):\n",
        "#     def __init__(self, in_channels, out_channels, stride=1):\n",
        "#         super().__init__()\n",
        "#         self.conv_layers = torch.nn.Sequential(\n",
        "#             torch.nn.Conv2d(in_channels, out_channels, kernel_size=3, stride=stride, padding=1),\n",
        "#             torch.nn.BatchNorm2d(out_channels),\n",
        "#             torch.nn.ReLU(),\n",
        "#             torch.nn.Conv2d(out_channels, out_channels, kernel_size=3, stride=1, padding=1),\n",
        "#             torch.nn.BatchNorm2d(out_channels),\n",
        "#         )\n",
        "#         self.skip_connection = None\n",
        "#         if in_channels == out_channels:\n",
        "#             self.skip_connection = torch.nn.Identity()\n",
        "#         else:\n",
        "#             self.skip_connection = torch.nn.Sequential(\n",
        "#                 torch.nn.Conv2d(in_channels, out_channels, kernel_size=1, stride=stride, padding=0),\n",
        "#                 torch.nn.BatchNorm2d(out_channels),\n",
        "#             )\n",
        "#         self.act = torch.nn.ReLU()\n",
        "    \n",
        "#     def forward(self, input):\n",
        "#         output = self.conv_layers(input)\n",
        "#         output = self.act(output + self.skip_connection(input))\n",
        "#         return output"
      ]
    },
    {
      "cell_type": "code",
      "execution_count": null,
      "metadata": {
        "id": "f7mfC5qowTzV"
      },
      "outputs": [],
      "source": [
        "# class Resnet34(torch.nn.Module):\n",
        "#     def __init__(self, residual_block, in_channels=3, num_classes=7000):\n",
        "#         super().__init__()\n",
        "#         self.conv1 = torch.nn.Sequential(\n",
        "#             torch.nn.Conv2d(in_channels, 64, kernel_size=7, stride=2, padding=3),\n",
        "#             torch.nn.BatchNorm2d(64),\n",
        "#             torch.nn.ReLU(),\n",
        "#             torch.nn.MaxPool2d(kernel_size=3, stride=2, padding=1),\n",
        "#         )\n",
        "#         self.conv2x = torch.nn.Sequential(\n",
        "#             residual_block(in_channels=64, out_channels=64),\n",
        "#             residual_block(in_channels=64, out_channels=64),\n",
        "#             residual_block(in_channels=64, out_channels=64),\n",
        "#         )\n",
        "#         self.conv3x = torch.nn.Sequential(\n",
        "#             residual_block(in_channels=64, out_channels=128, stride=2),\n",
        "#             residual_block(in_channels=128, out_channels=128),\n",
        "#             residual_block(in_channels=128, out_channels=128),\n",
        "#             residual_block(in_channels=128, out_channels=128),\n",
        "#         )\n",
        "#         self.conv4x = torch.nn.Sequential(\n",
        "#             residual_block(in_channels=128, out_channels=256, stride=2),\n",
        "#             residual_block(in_channels=256, out_channels=256),\n",
        "#             residual_block(in_channels=256, out_channels=256),\n",
        "#             residual_block(in_channels=256, out_channels=256),\n",
        "#             residual_block(in_channels=256, out_channels=256),\n",
        "#             residual_block(in_channels=256, out_channels=256),\n",
        "#         )\n",
        "#         self.conv5x = torch.nn.Sequential(\n",
        "#             residual_block(in_channels=256, out_channels=512, stride=2),\n",
        "#             residual_block(in_channels=512, out_channels=512),\n",
        "#             residual_block(in_channels=512, out_channels=512),\n",
        "#         )\n",
        "#         self.pre_final = torch.nn.Sequential(\n",
        "#             torch.nn.AdaptiveAvgPool2d((1, 1)),\n",
        "#             torch.nn.Flatten()\n",
        "#         )\n",
        "#         self.cls_layer = torch.nn.Linear(in_features=512, out_features=num_classes)\n",
        "\n",
        "#     def forward(self, input, return_feats=False):\n",
        "#         feats = self.conv1(input)\n",
        "#         feats = self.conv2x(feats)\n",
        "#         feats = self.conv3x(feats)\n",
        "#         feats = self.conv4x(feats)\n",
        "#         feats = self.conv5x(feats)\n",
        "#         feats = self.pre_final(feats)\n",
        "#         if return_feats:\n",
        "#             return feats\n",
        "#         out = self.cls_layer(feats)\n",
        "#         return out\n",
        "\n",
        "# model = Resnet34(ResidualBlock).to(device)\n",
        "# summary(model, (3, 224, 224))"
      ]
    },
    {
      "cell_type": "code",
      "execution_count": null,
      "metadata": {
        "id": "Ny-mh_ocWIJR"
      },
      "outputs": [],
      "source": [
        "# class Network(torch.nn.Module):\n",
        "#     \"\"\"\n",
        "#     The Very Low early deadline architecture is a 4-layer CNN.\n",
        "\n",
        "#     The first Conv layer has 64 channels, kernel size 7, and stride 4.\n",
        "#     The next three have 128, 256, and 512 channels. Each have kernel size 3 and stride 2.\n",
        "    \n",
        "#     Think about strided convolutions from the lecture, as convolutioin with stride= 1 and downsampling.\n",
        "#     For stride 1 convolution, what padding do you need for preserving the spatial resolution? \n",
        "#     (Hint => padding = kernel_size // 2) - Why?)\n",
        "\n",
        "#     Each Conv layer is accompanied by a Batchnorm and ReLU layer.\n",
        "#     Finally, you want to average pool over the spatial dimensions to reduce them to 1 x 1. Use AdaptiveAvgPool2d.\n",
        "#     Then, remove (Flatten?) these trivial 1x1 dimensions away.\n",
        "#     Look through https://pytorch.org/docs/stable/nn.html \n",
        "    \n",
        "#     TODO: Fill out the model definition below! \n",
        "\n",
        "#     Why does a very simple network have 4 convolutions?\n",
        "#     Input images are 224x224. Note that each of these convolutions downsample.\n",
        "#     Downsampling 2x effectively doubles the receptive field, increasing the spatial\n",
        "#     region each pixel extracts features from. Downsampling 32x is standard\n",
        "#     for most image models.\n",
        "\n",
        "#     Why does a very simple network have high channel sizes?\n",
        "#     Every time you downsample 2x, you do 4x less computation (at same channel size).\n",
        "#     To maintain the same level of computation, you 2x increase # of channels, which \n",
        "#     increases computation by 4x. So, balances out to same computation.\n",
        "#     Another intuition is - as you downsample, you lose spatial information. We want\n",
        "#     to preserve some of it in the channel dimension.\n",
        "#     \"\"\"\n",
        "#     def __init__(self, num_classes=7000):\n",
        "#         super().__init__()\n",
        "#         self.backbone = torch.nn.Sequential(\n",
        "#             torch.nn.Conv2d(in_channels=3, out_channels=64, kernel_size=7, stride=4),\n",
        "#             torch.nn.BatchNorm2d(num_features=64),\n",
        "#             torch.nn.ReLU(),\n",
        "#             torch.nn.Conv2d(in_channels=64, out_channels=128, kernel_size=3, stride=2),\n",
        "#             torch.nn.BatchNorm2d(num_features=128),\n",
        "#             torch.nn.ReLU(),\n",
        "#             torch.nn.Conv2d(in_channels=128, out_channels=256, kernel_size=3, stride=2),\n",
        "#             torch.nn.BatchNorm2d(num_features=256),\n",
        "#             torch.nn.ReLU(),\n",
        "#             torch.nn.Conv2d(in_channels=256, out_channels=512, kernel_size=3, stride=2),\n",
        "#             torch.nn.BatchNorm2d(num_features=512),\n",
        "#             torch.nn.ReLU(),\n",
        "#             torch.nn.AdaptiveAvgPool2d((1, 1)),\n",
        "#             torch.nn.Flatten()\n",
        "#         )\n",
        "#         self.cls_layer = torch.nn.Linear(in_features=512, out_features=num_classes)\n",
        "    \n",
        "#     def forward(self, x, return_feats=False):\n",
        "#         \"\"\"\n",
        "#         What is return_feats? It essentially returns the second-to-last-layer\n",
        "#         features of a given image. It's a \"feature encoding\" of the input image,\n",
        "#         and you can use it for the verification task. You would use the outputs\n",
        "#         of the final classification layer for the classification task.\n",
        "\n",
        "#         You might also find that the classification outputs are sometimes better\n",
        "#         for verification too - try both.\n",
        "#         \"\"\"\n",
        "#         feats = self.backbone(x)\n",
        "#         out = self.cls_layer(feats)\n",
        "#         if return_feats:\n",
        "#             return feats\n",
        "#         else:\n",
        "#             return out\n",
        "            \n",
        "# model = Network().to(device)\n",
        "# summary(model, (3, 224, 224))"
      ]
    },
    {
      "cell_type": "markdown",
      "metadata": {
        "id": "KZCn0qHuZRKj"
      },
      "source": [
        "# Setup everything for training"
      ]
    },
    {
      "cell_type": "code",
      "execution_count": null,
      "metadata": {
        "colab": {
          "base_uri": "https://localhost:8080/"
        },
        "id": "UowI9OcUYPjP",
        "outputId": "e3b96079-3e59-4f91-8c3c-f67f60f98877"
      },
      "outputs": [
        {
          "name": "stdout",
          "output_type": "stream",
          "text": [
            "CrossEntropyLoss()\n"
          ]
        }
      ],
      "source": [
        "criterion = torch.nn.CrossEntropyLoss(label_smoothing=0.2)\n",
        "optimizer = torch.optim.SGD(model.parameters(), lr=0.1, momentum=0.9, weight_decay=1e-4)\n",
        "# lr_scheduler = torch.optim.lr_scheduler.ReduceLROnPlateau(optimizer, mode=config[\"lr_rplt_mode\"], factor=0.1, patience=config[\"lr_rplt_patience\"], threshold=0.0001)\n",
        "# lr_scheduler = torch.optim.lr_scheduler.StepLR(optimizer, step_size=config['step_lr_step_size'], gamma=config['step_lr_gamma'])\n",
        "cosine_annealing_t_max = len(train_loader) * config['epochs']\n",
        "lr_scheduler = torch.optim.lr_scheduler.CosineAnnealingLR(optimizer, T_max=cosine_annealing_t_max)\n",
        "# You can try ReduceLRonPlateau, StepLR, MultistepLR, CosineAnnealing, etc.\n",
        "scaler = torch.cuda.amp.GradScaler() # Good news. We have FP16 (Mixed precision training) implemented for you\n",
        "# It is useful only in the case of compatible GPUs such as T4/V100\n",
        "# print(criterion)\n",
        "# print(optimizer)\n",
        "# print(lr_scheduler.state_dict())"
      ]
    },
    {
      "cell_type": "markdown",
      "metadata": {
        "id": "dzM11HtcboYv"
      },
      "source": [
        "# Let's train!"
      ]
    },
    {
      "cell_type": "code",
      "execution_count": null,
      "metadata": {
        "id": "bgSw6iJJavBZ"
      },
      "outputs": [],
      "source": [
        "def train(model, dataloader, optimizer, criterion):\n",
        "    model.train()\n",
        "    # Progress Bar \n",
        "    batch_bar = tqdm(total=len(dataloader), dynamic_ncols=True, leave=False, position=0, desc='Train', ncols=5) \n",
        "    num_correct = 0\n",
        "    total_loss = 0\n",
        "    for i, (images, labels) in enumerate(dataloader):\n",
        "        optimizer.zero_grad() # Zero gradients\n",
        "        images, labels = images.to(device), labels.to(device)\n",
        "        with torch.cuda.amp.autocast(): # This implements mixed precision. Thats it! \n",
        "            outputs_one = model(images)\n",
        "            outputs_two = model(images, return_feats=True)\n",
        "            loss = criterion(outputs_one, labels)\n",
        "            # loss_two = criterion_two(outputs_two, labels)\n",
        "            # loss = 0.7 * loss_one + 0.3 * loss_two\n",
        "        # Update no. of correct predictions & loss as we iterate\n",
        "        num_correct += int((torch.argmax(outputs_one, axis=1) == labels).sum())\n",
        "        total_loss += float(loss.item())\n",
        "        # tqdm lets you add some details so you can monitor training as you train.\n",
        "        batch_bar.set_postfix(\n",
        "            acc=\"{:.04f}%\".format(100 * num_correct / (config['batch_size']*(i + 1))),\n",
        "            loss=\"{:.04f}\".format(float(total_loss / (i + 1))),\n",
        "            num_correct=num_correct,\n",
        "            lr=\"{:.04f}\".format(float(optimizer.param_groups[0]['lr'])))\n",
        "        scaler.scale(loss).backward() # This is a replacement for loss.backward()\n",
        "        scaler.step(optimizer) # This is a replacement for optimizer.step()\n",
        "        scaler.update() \n",
        "        batch_bar.update() # Update tqdm bar\n",
        "\n",
        "    batch_bar.close() # You need this to close the tqdm bar\n",
        "    acc = 100 * num_correct / (config['batch_size']* len(dataloader))\n",
        "    total_loss = float(total_loss / len(dataloader))\n",
        "\n",
        "    return acc, total_loss"
      ]
    },
    {
      "cell_type": "code",
      "execution_count": null,
      "metadata": {
        "id": "m5V2UdnpdEoK"
      },
      "outputs": [],
      "source": [
        "def validate(model, dataloader, criterion):\n",
        "    model.eval()\n",
        "    batch_bar = tqdm(total=len(dataloader), dynamic_ncols=True, position=0, leave=False, desc='Val', ncols=5)\n",
        "    num_correct = 0.0\n",
        "    total_loss = 0.0\n",
        "    for i, (images, labels) in enumerate(dataloader):\n",
        "        # Move images to device\n",
        "        images, labels = images.to(device), labels.to(device)\n",
        "        # Get model outputs\n",
        "        with torch.inference_mode():\n",
        "            outputs = model(images)\n",
        "            loss = criterion(outputs, labels)\n",
        "\n",
        "        num_correct += int((torch.argmax(outputs, axis=1) == labels).sum())\n",
        "        total_loss += float(loss.item())\n",
        "        \n",
        "        batch_bar.set_postfix(\n",
        "            acc=\"{:.04f}%\".format(100 * num_correct / (config['batch_size']*(i + 1))),\n",
        "            loss=\"{:.04f}\".format(float(total_loss / (i + 1))),\n",
        "            num_correct=num_correct)\n",
        "\n",
        "        batch_bar.update()\n",
        "        \n",
        "    batch_bar.close()\n",
        "    acc = 100 * num_correct / (config['batch_size']* len(dataloader))\n",
        "    total_loss = float(total_loss / len(dataloader))\n",
        "    return acc, total_loss"
      ]
    },
    {
      "cell_type": "markdown",
      "metadata": {},
      "source": [
        "# Convnext Tiny"
      ]
    },
    {
      "cell_type": "code",
      "execution_count": null,
      "metadata": {
        "id": "HsiajoH6BJWM"
      },
      "outputs": [],
      "source": [
        "class ConvNextBlock(torch.nn.Module):\n",
        "    def __init__(self, layer_channels, stride=1):\n",
        "        super().__init__()\n",
        "        self.conv_layers = torch.nn.Sequential(\n",
        "            torch.nn.Conv2d(layer_channels, layer_channels,\n",
        "                            kernel_size=7, stride=1, padding=3, groups=layer_channels),\n",
        "            torch.nn.BatchNorm2d(layer_channels),\n",
        "            torch.nn.Conv2d(layer_channels, layer_channels * 4, kernel_size=1,),\n",
        "            torch.nn.GELU(),\n",
        "            torch.nn.Conv2d(layer_channels * 4, layer_channels, kernel_size=1,)\n",
        "        )\n",
        "        self.skip_connection = torch.nn.Identity()\n",
        "\n",
        "    def forward(self, input):\n",
        "        output = self.conv_layers(input)\n",
        "        residual = self.skip_connection(input)\n",
        "        return output + residual\n",
        "\n",
        "\n",
        "class ConvNextT(torch.nn.Module):\n",
        "    def __init__(self, in_channels, block, layers, num_classes=7000):\n",
        "        super().__init__()\n",
        "        self.conv1 = torch.nn.Sequential(\n",
        "            torch.nn.Conv2d(in_channels, 96, kernel_size=4,\n",
        "                            stride=4, padding=1,),\n",
        "            torch.nn.BatchNorm2d(96),\n",
        "        )\n",
        "        self.layer1 = self._make_layer(block, 96, layers[0])\n",
        "        self.downsample1 = torch.nn.Sequential(\n",
        "            torch.nn.BatchNorm2d(96),\n",
        "            torch.nn.Conv2d(96, 192, stride=2, kernel_size=2)\n",
        "        )\n",
        "\n",
        "        self.layer2 = self._make_layer(block, 192, layers[1])\n",
        "        self.downsample2 = torch.nn.Sequential(\n",
        "            torch.nn.BatchNorm2d(192),\n",
        "            torch.nn.Conv2d(192, 384, stride=2, kernel_size=2)\n",
        "        )\n",
        "\n",
        "        self.layer3 = self._make_layer(block, 384, layers[2])\n",
        "        self.downsample3 = torch.nn.Sequential(\n",
        "            torch.nn.BatchNorm2d(384),\n",
        "            torch.nn.Conv2d(384, 768, stride=2, kernel_size=2)\n",
        "        )\n",
        "\n",
        "        self.layer4 = self._make_layer(block, 768, layers[3])\n",
        "\n",
        "        self.pre_final = torch.nn.Sequential(\n",
        "            torch.nn.AdaptiveAvgPool2d((1, 1)),\n",
        "            torch.nn.Flatten()\n",
        "        )\n",
        "\n",
        "        self.cls_layer = torch.nn.Sequential(\n",
        "            torch.nn.Linear(in_features=768, out_features=num_classes),\n",
        "        )\n",
        "\n",
        "    def _make_layer(self, block, layer_channels, num_blocks):\n",
        "        layers = []\n",
        "        for _ in range(num_blocks):\n",
        "            layers.append(block(layer_channels))\n",
        "        return torch.nn.Sequential(*layers)\n",
        "\n",
        "    def forward(self, input, return_feats=False):\n",
        "        feats = self.conv1(input)\n",
        "        feats = self.layer1(feats)\n",
        "        feats = self.downsample1(feats)\n",
        "        feats = self.layer2(feats)\n",
        "        feats = self.downsample2(feats)\n",
        "        feats = self.layer3(feats)\n",
        "        feats = self.downsample3(feats)\n",
        "        feats = self.layer4(feats)\n",
        "        feats = self.pre_final(feats)\n",
        "        if return_feats:\n",
        "            return feats\n",
        "        out = self.cls_layer(feats)\n",
        "        return out"
      ]
    },
    {
      "cell_type": "code",
      "execution_count": null,
      "metadata": {
        "colab": {
          "base_uri": "https://localhost:8080/"
        },
        "id": "oNuP2LtFBFMa",
        "outputId": "c4127e9f-4482-40c1-9d8a-ebb6f982f22b"
      },
      "outputs": [
        {
          "name": "stderr",
          "output_type": "stream",
          "text": [
            "                                                                                                     "
          ]
        },
        {
          "name": "stdout",
          "output_type": "stream",
          "text": [
            "91.33055301645338 3.0548557502913956\n"
          ]
        },
        {
          "name": "stderr",
          "output_type": "stream",
          "text": [
            "\r"
          ]
        }
      ],
      "source": [
        "class MyEnsemble(torch.nn.Module):\n",
        "    def __init__(self, modelA, modelB, modelC, w1, w2, w3):\n",
        "        super(MyEnsemble, self).__init__()\n",
        "        self.modelA = modelA\n",
        "        self.modelB = modelB\n",
        "        self.modelC = modelC\n",
        "        self.w1 = w1\n",
        "        self.w2 = w2\n",
        "        self.w3 = w3\n",
        "\n",
        "    def forward(self, x, return_feats=False):\n",
        "        if return_feats:\n",
        "          pred_a = self.modelA(x, return_feats)\n",
        "          pred_b = self.modelB(x, return_feats)\n",
        "          # pred_c = self.modelC(x, return_feats)\n",
        "          return torch.cat((pred_a, pred_b), dim=1)\n",
        "        else:\n",
        "          pred_a = self.modelA(x, return_feats)\n",
        "          pred_b = self.modelB(x, return_feats)\n",
        "          pred_c = self.modelC(x, return_feats)\n",
        "          return self.w1 * pred_a + self.w2 * pred_b + self.w3 * pred_c\n",
        "\n",
        "# Create models and load state_dicts\n",
        "modelA = SEResnet50(3, SEBlock, [3, 4, 6, 3]).to(device)\n",
        "modelB = ConvNextT(3, ConvNextBlock, [3, 3, 9, 3]).to(device)\n",
        "modelC = SEResnet50(3, SEBlock, [3, 4, 6, 3]).to(device)\n",
        "# Load state dicts\n",
        "checkpointA = torch.load(\"./seresnet50_v2_checkpoint.pth\")\n",
        "checkpointB = torch.load(\"./convnext_checkpoint_v2.pth\")\n",
        "checkpointC = torch.load(\"./seresnet_checkpoint_v1.pth\")\n",
        "\n",
        "modelA.load_state_dict(checkpointA[\"model_state_dict\"])\n",
        "modelB.load_state_dict(checkpointB[\"model_state_dict\"])\n",
        "modelC.load_state_dict(checkpointC[\"model_state_dict\"])\n",
        "\n",
        "# while True:\n",
        "#   ws = np.random.uniform(size=(3,))\n",
        "#   ws = ws / np.sum(ws)\n",
        "  # print(ws)\n",
        "model = MyEnsemble(modelA, modelB, modelC, 0.45, 0.45, 0.1) # 0.5, 0.25, 0.25\n",
        "# model = MyEnsemble(modelA, modelB, modelC)\n",
        "val_acc, val_loss = validate(model, val_loader, criterion)\n",
        "print(val_acc, val_loss)"
      ]
    },
    {
      "cell_type": "code",
      "execution_count": null,
      "metadata": {
        "id": "cmotca6pcLLY"
      },
      "outputs": [],
      "source": [
        "gc.collect() # These commands help you when you face CUDA OOM error\n",
        "torch.cuda.empty_cache()"
      ]
    },
    {
      "cell_type": "markdown",
      "metadata": {
        "id": "2mBgKGkXLrdJ"
      },
      "source": [
        "# Wandb"
      ]
    },
    {
      "cell_type": "code",
      "execution_count": null,
      "metadata": {
        "colab": {
          "base_uri": "https://localhost:8080/",
          "height": 87
        },
        "id": "VG0vmsmbRYEi",
        "outputId": "578e2bea-3a84-44cd-c147-ad757bf2b415"
      },
      "outputs": [
        {
          "name": "stderr",
          "output_type": "stream",
          "text": [
            "\u001b[34m\u001b[1mwandb\u001b[0m: Currently logged in as: \u001b[33mbevani\u001b[0m. Use \u001b[1m`wandb login --relogin`\u001b[0m to force relogin\n"
          ]
        },
        {
          "data": {
            "text/html": [
              "Tracking run with wandb version 0.13.4"
            ],
            "text/plain": [
              "<IPython.core.display.HTML object>"
            ]
          },
          "metadata": {},
          "output_type": "display_data"
        },
        {
          "data": {
            "text/html": [
              "Run data is saved locally in <code>/content/wandb/run-20221023_213700-izpnxfdh</code>"
            ],
            "text/plain": [
              "<IPython.core.display.HTML object>"
            ]
          },
          "metadata": {},
          "output_type": "display_data"
        },
        {
          "data": {
            "text/html": [
              "Syncing run <strong><a href=\"https://wandb.ai/bevani/hw2p2/runs/izpnxfdh\" target=\"_blank\">med-try20</a></strong> to <a href=\"https://wandb.ai/bevani/hw2p2\" target=\"_blank\">Weights & Biases</a> (<a href=\"https://wandb.me/run\" target=\"_blank\">docs</a>)<br/>"
            ],
            "text/plain": [
              "<IPython.core.display.HTML object>"
            ]
          },
          "metadata": {},
          "output_type": "display_data"
        }
      ],
      "source": [
        "# Create your wandb run\n",
        "run_name = \"med-try20\"\n",
        "run = wandb.init(\n",
        "    name = run_name, ## Wandb creates random run names if you skip this field\n",
        "    reinit = True, ### Allows reinitalizing runs when you re-run this cell\n",
        "    # run_id = ### Insert specific run id here if you want to resume a previous run\n",
        "    # resume = \"must\", ### You need this to resume previous runs, but comment out reinit = True when using this\n",
        "    project = \"hw2p2\", ### Project should be created in your wandb account \n",
        "    config = config ### Wandb Config for your run\n",
        ")"
      ]
    },
    {
      "cell_type": "markdown",
      "metadata": {
        "id": "SQkRw1FvLqYe"
      },
      "source": [
        "# Experiments"
      ]
    },
    {
      "cell_type": "code",
      "execution_count": null,
      "metadata": {
        "colab": {
          "base_uri": "https://localhost:8080/"
        },
        "id": "7-3yDLB9Y7wK",
        "outputId": "bd9a4e75-0ab1-46bc-d087-4197453bef66"
      },
      "outputs": [
        {
          "name": "stdout",
          "output_type": "stream",
          "text": [
            "Initialized Model\n"
          ]
        },
        {
          "data": {
            "text/plain": [
              "<All keys matched successfully>"
            ]
          },
          "execution_count": 92,
          "metadata": {},
          "output_type": "execute_result"
        }
      ],
      "source": [
        "# # model = SEResnet50(3, SEBlock, [3, 4, 6, 3]).to(device)\n",
        "# # model = Resnet34(ResidualBlock).to(device)\n",
        "model = ConvNextT(3, ConvNextBlock, [3, 3, 9, 3]).to(device)\n",
        "print(\"Initialized Model\")\n",
        "checkpoint = torch.load(\"./checkpoint.pth\")\n",
        "model.load_state_dict(checkpoint[\"model_state_dict\"])\n",
        "# # print(\"Loaded checkpoint Model\")\n",
        "# # optimizer.load_state_dict(checkpoint[\"optimizer_state_dict\"])\n",
        "# # print(\"Loaded checkpoint optimizer\")\n",
        "# # lr_scheduler.load_state_dict(checkpoint['scheduler_state_dict'])\n",
        "# # print(\"Loaded checkpoint scheduler\")"
      ]
    },
    {
      "cell_type": "code",
      "execution_count": null,
      "metadata": {
        "colab": {
          "base_uri": "https://localhost:8080/",
          "height": 1000
        },
        "id": "EqWO8Edb0BK2",
        "outputId": "3974ac16-cce7-4d7b-f0ff-7fb7c9aa9b52"
      },
      "outputs": [
        {
          "name": "stderr",
          "output_type": "stream",
          "text": []
        },
        {
          "name": "stdout",
          "output_type": "stream",
          "text": [
            "\n",
            "Epoch 1/120: \n",
            "Train Acc 82.2569%\t Train Loss 13.1877\t Learning Rate 0.1000\n"
          ]
        },
        {
          "name": "stderr",
          "output_type": "stream",
          "text": []
        },
        {
          "name": "stdout",
          "output_type": "stream",
          "text": [
            "Val Acc 69.9783%\t Val Loss 3.8784\n"
          ]
        },
        {
          "name": "stderr",
          "output_type": "stream",
          "text": []
        },
        {
          "name": "stdout",
          "output_type": "stream",
          "text": [
            "\n",
            "Epoch 2/120: \n",
            "Train Acc 83.7887%\t Train Loss 12.9242\t Learning Rate 0.0994\n"
          ]
        },
        {
          "name": "stderr",
          "output_type": "stream",
          "text": []
        },
        {
          "name": "stdout",
          "output_type": "stream",
          "text": [
            "Val Acc 71.2780%\t Val Loss 3.8339\n",
            "Saving model\n"
          ]
        },
        {
          "name": "stderr",
          "output_type": "stream",
          "text": []
        },
        {
          "name": "stdout",
          "output_type": "stream",
          "text": [
            "\n",
            "Epoch 3/120: \n",
            "Train Acc 85.3084%\t Train Loss 12.7099\t Learning Rate 0.0976\n"
          ]
        },
        {
          "name": "stderr",
          "output_type": "stream",
          "text": []
        },
        {
          "name": "stdout",
          "output_type": "stream",
          "text": [
            "Val Acc 73.7431%\t Val Loss 3.7475\n",
            "Saving model\n"
          ]
        },
        {
          "name": "stderr",
          "output_type": "stream",
          "text": []
        },
        {
          "name": "stdout",
          "output_type": "stream",
          "text": [
            "\n",
            "Epoch 4/120: \n",
            "Train Acc 86.7373%\t Train Loss 12.5212\t Learning Rate 0.0946\n"
          ]
        },
        {
          "name": "stderr",
          "output_type": "stream",
          "text": []
        },
        {
          "name": "stdout",
          "output_type": "stream",
          "text": [
            "Val Acc 75.8769%\t Val Loss 3.6567\n",
            "Saving model\n"
          ]
        },
        {
          "name": "stderr",
          "output_type": "stream",
          "text": []
        },
        {
          "name": "stdout",
          "output_type": "stream",
          "text": [
            "\n",
            "Epoch 5/120: \n",
            "Train Acc 88.0192%\t Train Loss 12.3497\t Learning Rate 0.0905\n"
          ]
        },
        {
          "name": "stderr",
          "output_type": "stream",
          "text": []
        },
        {
          "name": "stdout",
          "output_type": "stream",
          "text": [
            "Val Acc 73.0919%\t Val Loss 3.7528\n"
          ]
        },
        {
          "name": "stderr",
          "output_type": "stream",
          "text": []
        },
        {
          "name": "stdout",
          "output_type": "stream",
          "text": [
            "\n",
            "Epoch 6/120: \n",
            "Train Acc 89.1239%\t Train Loss 12.1874\t Learning Rate 0.0854\n"
          ]
        },
        {
          "name": "stderr",
          "output_type": "stream",
          "text": []
        },
        {
          "name": "stdout",
          "output_type": "stream",
          "text": [
            "Val Acc 70.8809%\t Val Loss 3.8309\n"
          ]
        },
        {
          "name": "stderr",
          "output_type": "stream",
          "text": []
        },
        {
          "name": "stdout",
          "output_type": "stream",
          "text": [
            "\n",
            "Epoch 7/120: \n",
            "Train Acc 90.6014%\t Train Loss 12.0177\t Learning Rate 0.0794\n"
          ]
        },
        {
          "name": "stderr",
          "output_type": "stream",
          "text": []
        },
        {
          "name": "stdout",
          "output_type": "stream",
          "text": [
            "Val Acc 76.9196%\t Val Loss 3.6211\n",
            "Saving model\n"
          ]
        },
        {
          "name": "stderr",
          "output_type": "stream",
          "text": []
        },
        {
          "name": "stdout",
          "output_type": "stream",
          "text": [
            "\n",
            "Epoch 8/120: \n",
            "Train Acc 92.0340%\t Train Loss 11.8427\t Learning Rate 0.0727\n"
          ]
        },
        {
          "name": "stderr",
          "output_type": "stream",
          "text": []
        },
        {
          "name": "stdout",
          "output_type": "stream",
          "text": [
            "Val Acc 77.6423%\t Val Loss 3.6016\n",
            "Saving model\n"
          ]
        },
        {
          "name": "stderr",
          "output_type": "stream",
          "text": []
        },
        {
          "name": "stdout",
          "output_type": "stream",
          "text": [
            "\n",
            "Epoch 9/120: \n",
            "Train Acc 93.3615%\t Train Loss 11.6606\t Learning Rate 0.0655\n"
          ]
        },
        {
          "name": "stderr",
          "output_type": "stream",
          "text": []
        },
        {
          "name": "stdout",
          "output_type": "stream",
          "text": [
            "Val Acc 78.8191%\t Val Loss 3.5468\n",
            "Saving model\n"
          ]
        },
        {
          "name": "stderr",
          "output_type": "stream",
          "text": []
        },
        {
          "name": "stdout",
          "output_type": "stream",
          "text": [
            "\n",
            "Epoch 10/120: \n",
            "Train Acc 94.7333%\t Train Loss 11.4618\t Learning Rate 0.0578\n"
          ]
        },
        {
          "name": "stderr",
          "output_type": "stream",
          "text": []
        },
        {
          "name": "stdout",
          "output_type": "stream",
          "text": [
            "Val Acc 79.2647%\t Val Loss 3.5497\n",
            "Saving model\n"
          ]
        },
        {
          "name": "stderr",
          "output_type": "stream",
          "text": []
        },
        {
          "name": "stdout",
          "output_type": "stream",
          "text": [
            "\n",
            "Epoch 11/120: \n",
            "Train Acc 96.0523%\t Train Loss 11.2464\t Learning Rate 0.0500\n"
          ]
        },
        {
          "name": "stderr",
          "output_type": "stream",
          "text": []
        },
        {
          "name": "stdout",
          "output_type": "stream",
          "text": [
            "Val Acc 81.0700%\t Val Loss 3.4605\n",
            "Saving model\n"
          ]
        },
        {
          "name": "stderr",
          "output_type": "stream",
          "text": []
        },
        {
          "name": "stdout",
          "output_type": "stream",
          "text": [
            "\n",
            "Epoch 12/120: \n",
            "Train Acc 97.1149%\t Train Loss 11.0141\t Learning Rate 0.0422\n"
          ]
        },
        {
          "name": "stderr",
          "output_type": "stream",
          "text": [
            "                                               "
          ]
        },
        {
          "name": "stdout",
          "output_type": "stream",
          "text": [
            "Val Acc 82.0727%\t Val Loss 3.4550\n",
            "Saving model\n"
          ]
        },
        {
          "name": "stderr",
          "output_type": "stream",
          "text": []
        },
        {
          "name": "stdout",
          "output_type": "stream",
          "text": [
            "\n",
            "Epoch 13/120: \n",
            "Train Acc 98.1490%\t Train Loss 10.7534\t Learning Rate 0.0345\n"
          ]
        },
        {
          "name": "stderr",
          "output_type": "stream",
          "text": []
        },
        {
          "name": "stdout",
          "output_type": "stream",
          "text": [
            "Val Acc 83.4124%\t Val Loss 3.4140\n",
            "Saving model\n"
          ]
        },
        {
          "name": "stderr",
          "output_type": "stream",
          "text": []
        },
        {
          "name": "stdout",
          "output_type": "stream",
          "text": [
            "\n",
            "Epoch 14/120: \n",
            "Train Acc 98.8067%\t Train Loss 10.4747\t Learning Rate 0.0273\n"
          ]
        },
        {
          "name": "stderr",
          "output_type": "stream",
          "text": []
        },
        {
          "name": "stdout",
          "output_type": "stream",
          "text": [
            "Val Acc 84.0379%\t Val Loss 3.3941\n",
            "Saving model\n"
          ]
        },
        {
          "name": "stderr",
          "output_type": "stream",
          "text": []
        },
        {
          "name": "stdout",
          "output_type": "stream",
          "text": [
            "\n",
            "Epoch 15/120: \n",
            "Train Acc 99.3237%\t Train Loss 10.1811\t Learning Rate 0.0206\n"
          ]
        },
        {
          "name": "stderr",
          "output_type": "stream",
          "text": []
        },
        {
          "name": "stdout",
          "output_type": "stream",
          "text": [
            "Val Acc 84.6092%\t Val Loss 3.4466\n",
            "Saving model\n"
          ]
        },
        {
          "name": "stderr",
          "output_type": "stream",
          "text": []
        },
        {
          "name": "stdout",
          "output_type": "stream",
          "text": [
            "\n",
            "Epoch 16/120: \n",
            "Train Acc 99.5858%\t Train Loss 9.8783\t Learning Rate 0.0146\n"
          ]
        },
        {
          "name": "stderr",
          "output_type": "stream",
          "text": []
        },
        {
          "name": "stdout",
          "output_type": "stream",
          "text": [
            "Val Acc 85.6776%\t Val Loss 3.3968\n",
            "Saving model\n"
          ]
        },
        {
          "name": "stderr",
          "output_type": "stream",
          "text": []
        },
        {
          "name": "stdout",
          "output_type": "stream",
          "text": [
            "\n",
            "Epoch 17/120: \n",
            "Train Acc 99.7343%\t Train Loss 9.5863\t Learning Rate 0.0095\n"
          ]
        },
        {
          "name": "stderr",
          "output_type": "stream",
          "text": []
        },
        {
          "name": "stdout",
          "output_type": "stream",
          "text": [
            "Val Acc 85.9918%\t Val Loss 3.4243\n",
            "Saving model\n"
          ]
        },
        {
          "name": "stderr",
          "output_type": "stream",
          "text": []
        },
        {
          "name": "stdout",
          "output_type": "stream",
          "text": [
            "\n",
            "Epoch 18/120: \n",
            "Train Acc 99.8086%\t Train Loss 9.3410\t Learning Rate 0.0054\n"
          ]
        },
        {
          "name": "stderr",
          "output_type": "stream",
          "text": []
        },
        {
          "name": "stdout",
          "output_type": "stream",
          "text": [
            "Val Acc 86.3831%\t Val Loss 3.4286\n",
            "Saving model\n"
          ]
        },
        {
          "name": "stderr",
          "output_type": "stream",
          "text": []
        },
        {
          "name": "stdout",
          "output_type": "stream",
          "text": [
            "\n",
            "Epoch 19/120: \n",
            "Train Acc 99.8536%\t Train Loss 9.1637\t Learning Rate 0.0024\n"
          ]
        },
        {
          "name": "stderr",
          "output_type": "stream",
          "text": []
        },
        {
          "name": "stdout",
          "output_type": "stream",
          "text": [
            "Val Acc 86.5745%\t Val Loss 3.4420\n",
            "Saving model\n"
          ]
        },
        {
          "name": "stderr",
          "output_type": "stream",
          "text": []
        },
        {
          "name": "stdout",
          "output_type": "stream",
          "text": [
            "\n",
            "Epoch 20/120: \n",
            "Train Acc 99.8793%\t Train Loss 9.0651\t Learning Rate 0.0006\n"
          ]
        },
        {
          "name": "stderr",
          "output_type": "stream",
          "text": []
        },
        {
          "name": "stdout",
          "output_type": "stream",
          "text": [
            "Val Acc 86.5973%\t Val Loss 3.4730\n",
            "Saving model\n"
          ]
        },
        {
          "name": "stderr",
          "output_type": "stream",
          "text": []
        },
        {
          "name": "stdout",
          "output_type": "stream",
          "text": [
            "\n",
            "Epoch 21/120: \n",
            "Train Acc 99.8829%\t Train Loss 9.0377\t Learning Rate 0.0000\n"
          ]
        },
        {
          "name": "stderr",
          "output_type": "stream",
          "text": []
        },
        {
          "name": "stdout",
          "output_type": "stream",
          "text": [
            "Val Acc 86.5059%\t Val Loss 3.5000\n"
          ]
        },
        {
          "name": "stderr",
          "output_type": "stream",
          "text": []
        },
        {
          "name": "stdout",
          "output_type": "stream",
          "text": [
            "\n",
            "Epoch 22/120: \n",
            "Train Acc 99.8800%\t Train Loss 9.0444\t Learning Rate 0.0006\n"
          ]
        },
        {
          "name": "stderr",
          "output_type": "stream",
          "text": []
        },
        {
          "name": "stdout",
          "output_type": "stream",
          "text": [
            "Val Acc 86.5402%\t Val Loss 3.4672\n"
          ]
        },
        {
          "name": "stderr",
          "output_type": "stream",
          "text": []
        },
        {
          "name": "stdout",
          "output_type": "stream",
          "text": [
            "\n",
            "Epoch 23/120: \n",
            "Train Acc 99.8693%\t Train Loss 9.0727\t Learning Rate 0.0024\n"
          ]
        },
        {
          "name": "stderr",
          "output_type": "stream",
          "text": []
        },
        {
          "name": "stdout",
          "output_type": "stream",
          "text": [
            "Val Acc 86.4574%\t Val Loss 3.4796\n"
          ]
        },
        {
          "name": "stderr",
          "output_type": "stream",
          "text": [
            "Train:  47%|████▋     | 1034/2188 [02:52<03:12,  6.00it/s, acc=99.8806%, loss=9.0954, lr=0.0054, num_correct=66097]"
          ]
        },
        {
          "ename": "KeyboardInterrupt",
          "evalue": "ignored",
          "output_type": "error",
          "traceback": [
            "\u001b[0;31m---------------------------------------------------------------------------\u001b[0m",
            "\u001b[0;31mKeyboardInterrupt\u001b[0m                         Traceback (most recent call last)",
            "\u001b[0;32m<ipython-input-95-79a5957b6a4e>\u001b[0m in \u001b[0;36m<module>\u001b[0;34m\u001b[0m\n\u001b[1;32m      2\u001b[0m \u001b[0;32mfor\u001b[0m \u001b[0mepoch\u001b[0m \u001b[0;32min\u001b[0m \u001b[0mrange\u001b[0m\u001b[0;34m(\u001b[0m\u001b[0mconfig\u001b[0m\u001b[0;34m[\u001b[0m\u001b[0;34m'epochs'\u001b[0m\u001b[0;34m]\u001b[0m\u001b[0;34m)\u001b[0m\u001b[0;34m:\u001b[0m\u001b[0;34m\u001b[0m\u001b[0;34m\u001b[0m\u001b[0m\n\u001b[1;32m      3\u001b[0m     \u001b[0mcurr_lr\u001b[0m \u001b[0;34m=\u001b[0m \u001b[0mfloat\u001b[0m\u001b[0;34m(\u001b[0m\u001b[0moptimizer\u001b[0m\u001b[0;34m.\u001b[0m\u001b[0mparam_groups\u001b[0m\u001b[0;34m[\u001b[0m\u001b[0;36m0\u001b[0m\u001b[0;34m]\u001b[0m\u001b[0;34m[\u001b[0m\u001b[0;34m'lr'\u001b[0m\u001b[0;34m]\u001b[0m\u001b[0;34m)\u001b[0m\u001b[0;34m\u001b[0m\u001b[0;34m\u001b[0m\u001b[0m\n\u001b[0;32m----> 4\u001b[0;31m     \u001b[0mtrain_acc\u001b[0m\u001b[0;34m,\u001b[0m \u001b[0mtrain_loss\u001b[0m \u001b[0;34m=\u001b[0m \u001b[0mtrain\u001b[0m\u001b[0;34m(\u001b[0m\u001b[0mmodel\u001b[0m\u001b[0;34m,\u001b[0m \u001b[0mtrain_loader\u001b[0m\u001b[0;34m,\u001b[0m \u001b[0moptimizer\u001b[0m\u001b[0;34m,\u001b[0m \u001b[0mcriterion_one\u001b[0m\u001b[0;34m,\u001b[0m \u001b[0mcriterion_two\u001b[0m\u001b[0;34m)\u001b[0m\u001b[0;34m\u001b[0m\u001b[0;34m\u001b[0m\u001b[0m\n\u001b[0m\u001b[1;32m      5\u001b[0m     print(\"\\nEpoch {}/{}: \\nTrain Acc {:.04f}%\\t Train Loss {:.04f}\\t Learning Rate {:.04f}\".format(\n\u001b[1;32m      6\u001b[0m         \u001b[0mepoch\u001b[0m \u001b[0;34m+\u001b[0m \u001b[0;36m1\u001b[0m\u001b[0;34m,\u001b[0m\u001b[0;34m\u001b[0m\u001b[0;34m\u001b[0m\u001b[0m\n",
            "\u001b[0;32m<ipython-input-90-2f72dff37bc5>\u001b[0m in \u001b[0;36mtrain\u001b[0;34m(model, dataloader, optimizer, criterion_one, criterion_two)\u001b[0m\n\u001b[1;32m      7\u001b[0m     \u001b[0;32mfor\u001b[0m \u001b[0mi\u001b[0m\u001b[0;34m,\u001b[0m \u001b[0;34m(\u001b[0m\u001b[0mimages\u001b[0m\u001b[0;34m,\u001b[0m \u001b[0mlabels\u001b[0m\u001b[0;34m)\u001b[0m \u001b[0;32min\u001b[0m \u001b[0menumerate\u001b[0m\u001b[0;34m(\u001b[0m\u001b[0mdataloader\u001b[0m\u001b[0;34m)\u001b[0m\u001b[0;34m:\u001b[0m\u001b[0;34m\u001b[0m\u001b[0;34m\u001b[0m\u001b[0m\n\u001b[1;32m      8\u001b[0m         \u001b[0moptimizer\u001b[0m\u001b[0;34m.\u001b[0m\u001b[0mzero_grad\u001b[0m\u001b[0;34m(\u001b[0m\u001b[0;34m)\u001b[0m \u001b[0;31m# Zero gradients\u001b[0m\u001b[0;34m\u001b[0m\u001b[0;34m\u001b[0m\u001b[0m\n\u001b[0;32m----> 9\u001b[0;31m         \u001b[0mimages\u001b[0m\u001b[0;34m,\u001b[0m \u001b[0mlabels\u001b[0m \u001b[0;34m=\u001b[0m \u001b[0mimages\u001b[0m\u001b[0;34m.\u001b[0m\u001b[0mto\u001b[0m\u001b[0;34m(\u001b[0m\u001b[0mdevice\u001b[0m\u001b[0;34m)\u001b[0m\u001b[0;34m,\u001b[0m \u001b[0mlabels\u001b[0m\u001b[0;34m.\u001b[0m\u001b[0mto\u001b[0m\u001b[0;34m(\u001b[0m\u001b[0mdevice\u001b[0m\u001b[0;34m)\u001b[0m\u001b[0;34m\u001b[0m\u001b[0;34m\u001b[0m\u001b[0m\n\u001b[0m\u001b[1;32m     10\u001b[0m         \u001b[0;32mwith\u001b[0m \u001b[0mtorch\u001b[0m\u001b[0;34m.\u001b[0m\u001b[0mcuda\u001b[0m\u001b[0;34m.\u001b[0m\u001b[0mamp\u001b[0m\u001b[0;34m.\u001b[0m\u001b[0mautocast\u001b[0m\u001b[0;34m(\u001b[0m\u001b[0;34m)\u001b[0m\u001b[0;34m:\u001b[0m \u001b[0;31m# This implements mixed precision. Thats it!\u001b[0m\u001b[0;34m\u001b[0m\u001b[0;34m\u001b[0m\u001b[0m\n\u001b[1;32m     11\u001b[0m             \u001b[0moutputs_one\u001b[0m \u001b[0;34m=\u001b[0m \u001b[0mmodel\u001b[0m\u001b[0;34m(\u001b[0m\u001b[0mimages\u001b[0m\u001b[0;34m)\u001b[0m\u001b[0;34m\u001b[0m\u001b[0;34m\u001b[0m\u001b[0m\n",
            "\u001b[0;31mKeyboardInterrupt\u001b[0m: "
          ]
        }
      ],
      "source": [
        "# best_valacc = 0.0 # comment out later !!!\n",
        "for epoch in range(config['epochs']):\n",
        "    curr_lr = float(optimizer.param_groups[0]['lr'])\n",
        "    train_acc, train_loss = train(model, train_loader, optimizer, criterion_one, criterion_two)\n",
        "    print(\"\\nEpoch {}/{}: \\nTrain Acc {:.04f}%\\t Train Loss {:.04f}\\t Learning Rate {:.04f}\".format(\n",
        "        epoch + 1,\n",
        "        config['epochs'],\n",
        "        train_acc,\n",
        "        train_loss,\n",
        "        curr_lr))\n",
        "    val_acc, val_loss = validate(model, val_loader, criterion_one)\n",
        "    print(\"Val Acc {:.04f}%\\t Val Loss {:.04f}\".format(val_acc, val_loss))\n",
        "    wandb.log({\"train_loss\":train_loss, 'train_Acc': train_acc, 'validation_Acc':val_acc, \n",
        "               'validation_loss': val_loss, \"learning_Rate\": curr_lr})\n",
        "    # If you are using a scheduler in your train function within your iteration loop, you may want to log\n",
        "    # your learning rate differently \n",
        "    # #Save model in drive location if val_acc is better than best recorded val_acc\n",
        "    lr_scheduler.step()\n",
        "    if val_acc > best_valacc:\n",
        "      #path = os.path.join(root, model_directory, 'checkpoint' + '.pth')\n",
        "      print(\"Saving model\")\n",
        "      torch.save({'model_state_dict': model.state_dict(),\n",
        "                  'optimizer_state_dict': optimizer.state_dict(),\n",
        "                  # 'scheduler_state_dict': lr_scheduler.state_dict(),\n",
        "                  'val_acc': val_acc, \n",
        "                  'epoch': epoch}, './checkpoint.pth')\n",
        "      best_valacc = val_acc\n",
        "      wandb.save('checkpoint.pth')\n",
        "      # You may find it interesting to exlplore Wandb Artifcats to version your models\n",
        "run.finish()"
      ]
    },
    {
      "cell_type": "markdown",
      "metadata": {
        "id": "UpgCHImRkYQW"
      },
      "source": [
        "# Classification Task: Testing"
      ]
    },
    {
      "cell_type": "code",
      "execution_count": null,
      "metadata": {
        "id": "U2WQEUjXkWvo"
      },
      "outputs": [],
      "source": [
        "def test(model,dataloader):\n",
        "  model.eval()\n",
        "  batch_bar = tqdm(total=len(dataloader), dynamic_ncols=True, position=0, leave=False, desc='Test')\n",
        "  test_results = []\n",
        "  for i, (images) in enumerate(dataloader):\n",
        "      # TODO: Finish predicting on the test set.\n",
        "      images = images.to(device)\n",
        "      with torch.inference_mode():\n",
        "        outputs = model(images)\n",
        "      outputs = torch.argmax(outputs, axis=1).detach().cpu().numpy().tolist()\n",
        "      test_results.extend(outputs)\n",
        "      batch_bar.update()\n",
        "      \n",
        "  batch_bar.close()\n",
        "  return test_results"
      ]
    },
    {
      "cell_type": "code",
      "execution_count": null,
      "metadata": {
        "colab": {
          "base_uri": "https://localhost:8080/"
        },
        "id": "K7R1lcCAzULc",
        "outputId": "5d3e055d-60aa-4922-fc33-3f65368c4b40"
      },
      "outputs": [
        {
          "name": "stderr",
          "output_type": "stream",
          "text": []
        }
      ],
      "source": [
        "test_results = test(model, test_loader)"
      ]
    },
    {
      "cell_type": "markdown",
      "metadata": {
        "id": "zqfUzwS2L1gx"
      },
      "source": [
        "## Generate csv to submit to Kaggle"
      ]
    },
    {
      "cell_type": "code",
      "execution_count": null,
      "metadata": {
        "id": "Vob9a2-HkW_V"
      },
      "outputs": [],
      "source": [
        "with open(\"classification_submission.csv\", \"w\") as f:\n",
        "    f.write(\"id,label\\n\")\n",
        "    for i in range(len(test_dataset)):\n",
        "        f.write(\"{},{}\\n\".format(str(i).zfill(6) + \".jpg\", test_results[i]))"
      ]
    },
    {
      "cell_type": "code",
      "execution_count": null,
      "metadata": {
        "colab": {
          "base_uri": "https://localhost:8080/"
        },
        "id": "YRenfN7SPNPl",
        "outputId": "f73adde7-661b-4300-8c8b-4d706509b0cf"
      },
      "outputs": [
        {
          "name": "stdout",
          "output_type": "stream",
          "text": [
            "Warning: Looks like you're using an outdated API Version, please consider updating (server 1.5.12 / client 1.5.8)\n",
            "100% 541k/541k [00:01<00:00, 438kB/s]\n",
            "Successfully submitted to Face Recognition"
          ]
        }
      ],
      "source": [
        "### Submit to kaggle competition using kaggle API\n",
        "!kaggle competitions submit -c 11-785-f22-hw2p2-classification -f ./classification_submission.csv -m \"thirteenth submission\""
      ]
    },
    {
      "cell_type": "markdown",
      "metadata": {
        "id": "PsJx1l1T4twC"
      },
      "source": [
        "# Verification Task: Validation"
      ]
    },
    {
      "cell_type": "markdown",
      "metadata": {
        "id": "FoBFFF8-Lpvj"
      },
      "source": [
        "The verification task consists of the following generalized scenario:\n",
        "- You are given X unknown identitites \n",
        "- You are given Y known identitites\n",
        "- Your goal is to match X unknown identities to Y known identities.\n",
        "\n",
        "We have given you a verification dataset, that consists of 1000 known identities, and 1000 unknown identities. The 1000 unknown identities are split into dev (200) and test (800). Your goal is to compare the unknown identities to the 1000 known identities and assign an identity to each image from the set of unknown identities. \n",
        "\n",
        "Your will use/finetune your model trained for classification to compare images between known and unknown identities using a similarity metric and assign labels to the unknown identities. \n",
        "\n",
        "This will judge your model's performance in terms of the quality of embeddings/features it generates on images/faces it has never seen during training for classification."
      ]
    },
    {
      "cell_type": "code",
      "execution_count": null,
      "metadata": {
        "colab": {
          "base_uri": "https://localhost:8080/"
        },
        "id": "f9aY5o-suWdn",
        "outputId": "bd05235e-d1f4-49d5-eba1-55e958e0bb5a"
      },
      "outputs": [
        {
          "name": "stderr",
          "output_type": "stream",
          "text": [
            "100%|██████████| 200/200 [00:00<00:00, 6392.49it/s]\n",
            "100%|██████████| 1000/1000 [00:00<00:00, 12559.19it/s]\n",
            "100%|██████████| 800/800 [00:00<00:00, 12137.04it/s]\n"
          ]
        },
        {
          "name": "stdout",
          "output_type": "stream",
          "text": [
            "torch.Size([200, 3, 224, 224])\n",
            "torch.Size([1000, 3, 224, 224])\n",
            "torch.Size([800, 3, 224, 224])\n"
          ]
        }
      ],
      "source": [
        "known_regex = \"/content/data/verification/known/*/*\"\n",
        "known_paths = [i.split('/')[-2] for i in sorted(glob.glob(known_regex))] \n",
        "# This obtains the list of known identities from the known folder\n",
        "\n",
        "unknown_regex = \"/content/data/verification/unknown_dev/*\" #Change the directory accordingly for the test set\n",
        "unknown_regex_test = \"/content/data/verification/unknown_test/*\"\n",
        "\n",
        "# We load the images from known and unknown folders\n",
        "unknown_images = [Image.open(p) for p in tqdm(sorted(glob.glob(unknown_regex)))]\n",
        "known_images = [Image.open(p) for p in tqdm(sorted(glob.glob(known_regex)))]\n",
        "unknown_images_test = [Image.open(p) for p in tqdm(sorted(glob.glob(unknown_regex_test)))]\n",
        "\n",
        "# Why do you need only ToTensor() here?\n",
        "transforms = torchvision.transforms.Compose([\n",
        "    torchvision.transforms.ToTensor()])\n",
        "\n",
        "unknown_images = torch.stack([transforms(x) for x in unknown_images])\n",
        "known_images  = torch.stack([transforms(y) for y in known_images])\n",
        "unknown_images_test = torch.stack([transforms(x) for x in unknown_images_test])\n",
        "\n",
        "#Print your shapes here to understand what we have done\n",
        "print(unknown_images.size())\n",
        "print(known_images.size())\n",
        "print(unknown_images_test.size())\n",
        "\n",
        "# You can use other similarity metrics like Euclidean Distance if you wish\n",
        "similarity_metric = torch.nn.CosineSimilarity(dim= 1, eps= 1e-6)"
      ]
    },
    {
      "cell_type": "code",
      "execution_count": null,
      "metadata": {
        "id": "rk1LS0BRxFHM"
      },
      "outputs": [],
      "source": [
        "def eval_verification(unknown_images, known_images, model, similarity, batch_size= config['batch_size'], mode='val'): \n",
        "    unknown_feats, known_feats = [], []\n",
        "    batch_bar = tqdm(total=len(unknown_images)//batch_size, dynamic_ncols=True, position=0, leave=False, desc=mode)\n",
        "    model.eval()\n",
        "\n",
        "    # We load the images as batches for memory optimization and avoiding CUDA OOM errors\n",
        "    for i in range(0, unknown_images.shape[0], batch_size):\n",
        "        unknown_batch = unknown_images[i:i+batch_size] # Slice a given portion upto batch_size\n",
        "        \n",
        "        with torch.no_grad():\n",
        "            unknown_feat = model(unknown_batch.float().to(device), return_feats=True) #Get features from model         \n",
        "        unknown_feats.append(unknown_feat)\n",
        "        batch_bar.update()\n",
        "    \n",
        "    batch_bar.close()\n",
        "    \n",
        "    batch_bar = tqdm(total=len(known_images)//batch_size, dynamic_ncols=True, position=0, leave=False, desc=mode)\n",
        "    \n",
        "    for i in range(0, known_images.shape[0], batch_size):\n",
        "        known_batch = known_images[i:i+batch_size] \n",
        "        with torch.no_grad():\n",
        "              known_feat = model(known_batch.float().to(device), return_feats=True)\n",
        "          \n",
        "        known_feats.append(known_feat)\n",
        "        batch_bar.update()\n",
        "\n",
        "    batch_bar.close()\n",
        "\n",
        "    # Concatenate all the batches\n",
        "    unknown_feats = torch.cat(unknown_feats, dim=0)\n",
        "    known_feats = torch.cat(known_feats, dim=0)\n",
        "\n",
        "    similarity_values = torch.stack([similarity(unknown_feats, known_feature) for known_feature in known_feats])\n",
        "    # Print the inner list comprehension in a separate cell - what is really happening?\n",
        "\n",
        "    predictions = similarity_values.argmax(0).cpu().numpy() #Why are we doing an argmax here?\n",
        "\n",
        "    # Map argmax indices to identity strings\n",
        "    pred_id_strings = [known_paths[i] for i in predictions]\n",
        "    \n",
        "    if mode == 'val':\n",
        "      true_ids = pd.read_csv('/content/data/verification/dev_identities.csv')['label'].tolist()\n",
        "      accuracy = accuracy_score(pred_id_strings, true_ids)\n",
        "      print(\"Verification Accuracy = {}\".format(accuracy))\n",
        "    \n",
        "    return pred_id_strings"
      ]
    },
    {
      "cell_type": "code",
      "execution_count": null,
      "metadata": {
        "colab": {
          "base_uri": "https://localhost:8080/"
        },
        "id": "kIP4-DyQTCKD",
        "outputId": "29dcc180-8b2e-47e9-efa3-c4c5e07fd554"
      },
      "outputs": [
        {
          "name": "stderr",
          "output_type": "stream",
          "text": []
        },
        {
          "name": "stdout",
          "output_type": "stream",
          "text": [
            "Verification Accuracy = 0.67\n"
          ]
        }
      ],
      "source": [
        "pred_id_strings = eval_verification(unknown_images, known_images, modelB, similarity_metric, config['batch_size'], mode='val')"
      ]
    },
    {
      "cell_type": "code",
      "execution_count": null,
      "metadata": {
        "colab": {
          "base_uri": "https://localhost:8080/"
        },
        "id": "zMC7FacaUnJ7",
        "outputId": "8cb94435-c6db-48fe-854a-af09ed112884"
      },
      "outputs": [
        {
          "name": "stderr",
          "output_type": "stream",
          "text": []
        }
      ],
      "source": [
        "pred_id_strings_test = eval_verification(unknown_images_test, known_images, model, similarity_metric, config['batch_size'], mode='test')"
      ]
    },
    {
      "cell_type": "code",
      "execution_count": null,
      "metadata": {
        "id": "fD-r-HmsAeWV"
      },
      "outputs": [],
      "source": [
        "with open(\"verification_submission.csv\", \"w\") as f:\n",
        "    f.write(\"id,label\\n\")\n",
        "    for i in range(len(pred_id_strings_test)):\n",
        "        f.write(\"{},{}\\n\".format(i, pred_id_strings_test[i]))"
      ]
    },
    {
      "cell_type": "code",
      "execution_count": null,
      "metadata": {
        "colab": {
          "base_uri": "https://localhost:8080/"
        },
        "id": "ghMR3139QILQ",
        "outputId": "52e2162f-5403-4ec3-b188-89bf34982687"
      },
      "outputs": [
        {
          "name": "stdout",
          "output_type": "stream",
          "text": [
            "Warning: Looks like you're using an outdated API Version, please consider updating (server 1.5.12 / client 1.5.8)\n",
            "100% 9.28k/9.28k [00:01<00:00, 5.98kB/s]\n",
            "Successfully submitted to Face Verification"
          ]
        }
      ],
      "source": [
        "!kaggle competitions submit -c 11-785-f22-hw2p2-verification -f ./verification_submission.csv -m \"thirteenth submission\""
      ]
    },
    {
      "cell_type": "code",
      "execution_count": null,
      "metadata": {
        "id": "YqS3kWh1QVKB"
      },
      "outputs": [],
      "source": []
    }
  ],
  "metadata": {
    "accelerator": "GPU",
    "colab": {
      "collapsed_sections": [
        "1oxQNl-YVWHc"
      ],
      "machine_shape": "hm",
      "provenance": []
    },
    "gpuClass": "premium",
    "kernelspec": {
      "display_name": "Python 3.8.13 ('idl_hw_2_p1')",
      "language": "python",
      "name": "python3"
    },
    "language_info": {
      "codemirror_mode": {
        "name": "ipython",
        "version": 3
      },
      "file_extension": ".py",
      "mimetype": "text/x-python",
      "name": "python",
      "nbconvert_exporter": "python",
      "pygments_lexer": "ipython3",
      "version": "3.8.13"
    },
    "vscode": {
      "interpreter": {
        "hash": "1cc7dd5a37287fecfb75e9f0c4c71af80fb9645334c4cbb5615f89db434d0ee7"
      }
    }
  },
  "nbformat": 4,
  "nbformat_minor": 0
}
